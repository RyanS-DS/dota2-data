{
 "cells": [
  {
   "cell_type": "markdown",
   "metadata": {},
   "source": [
    "# Model building\n",
    "\n",
    "Having explored the data a bit in 'DOTA 2 Data Exploration.ipynb', I'd like to try and build a model that predicts whether I won or lost each match.\n",
    "\n",
    "Let's start by importing the dataset we created earlier."
   ]
  },
  {
   "cell_type": "code",
   "execution_count": 8,
   "metadata": {},
   "outputs": [
    {
     "data": {
      "text/html": [
       "<div>\n",
       "<style scoped>\n",
       "    .dataframe tbody tr th:only-of-type {\n",
       "        vertical-align: middle;\n",
       "    }\n",
       "\n",
       "    .dataframe tbody tr th {\n",
       "        vertical-align: top;\n",
       "    }\n",
       "\n",
       "    .dataframe thead th {\n",
       "        text-align: right;\n",
       "    }\n",
       "</style>\n",
       "<table border=\"1\" class=\"dataframe\">\n",
       "  <thead>\n",
       "    <tr style=\"text-align: right;\">\n",
       "      <th></th>\n",
       "      <th>assists</th>\n",
       "      <th>deaths</th>\n",
       "      <th>duration</th>\n",
       "      <th>game_mode</th>\n",
       "      <th>hero_id</th>\n",
       "      <th>kills</th>\n",
       "      <th>leaver_status</th>\n",
       "      <th>lobby_type</th>\n",
       "      <th>match_id</th>\n",
       "      <th>player_slot</th>\n",
       "      <th>radiant_win</th>\n",
       "      <th>start_time</th>\n",
       "      <th>hero_name</th>\n",
       "      <th>start_datetime</th>\n",
       "      <th>team</th>\n",
       "      <th>win</th>\n",
       "    </tr>\n",
       "  </thead>\n",
       "  <tbody>\n",
       "    <tr>\n",
       "      <th>0</th>\n",
       "      <td>18</td>\n",
       "      <td>4</td>\n",
       "      <td>2533</td>\n",
       "      <td>22</td>\n",
       "      <td>27</td>\n",
       "      <td>7</td>\n",
       "      <td>0</td>\n",
       "      <td>0</td>\n",
       "      <td>3587558457</td>\n",
       "      <td>2</td>\n",
       "      <td>True</td>\n",
       "      <td>1511879974</td>\n",
       "      <td>Shadow Shaman</td>\n",
       "      <td>2017-11-28 14:39:34</td>\n",
       "      <td>radiant</td>\n",
       "      <td>1</td>\n",
       "    </tr>\n",
       "    <tr>\n",
       "      <th>1</th>\n",
       "      <td>5</td>\n",
       "      <td>6</td>\n",
       "      <td>2375</td>\n",
       "      <td>22</td>\n",
       "      <td>18</td>\n",
       "      <td>5</td>\n",
       "      <td>0</td>\n",
       "      <td>0</td>\n",
       "      <td>3434506769</td>\n",
       "      <td>128</td>\n",
       "      <td>True</td>\n",
       "      <td>1504985730</td>\n",
       "      <td>Sven</td>\n",
       "      <td>2017-09-09 19:35:30</td>\n",
       "      <td>dire</td>\n",
       "      <td>0</td>\n",
       "    </tr>\n",
       "    <tr>\n",
       "      <th>2</th>\n",
       "      <td>1</td>\n",
       "      <td>2</td>\n",
       "      <td>2112</td>\n",
       "      <td>22</td>\n",
       "      <td>31</td>\n",
       "      <td>1</td>\n",
       "      <td>1</td>\n",
       "      <td>0</td>\n",
       "      <td>3434469722</td>\n",
       "      <td>129</td>\n",
       "      <td>True</td>\n",
       "      <td>1504984250</td>\n",
       "      <td>Lich</td>\n",
       "      <td>2017-09-09 19:10:50</td>\n",
       "      <td>dire</td>\n",
       "      <td>0</td>\n",
       "    </tr>\n",
       "    <tr>\n",
       "      <th>3</th>\n",
       "      <td>19</td>\n",
       "      <td>5</td>\n",
       "      <td>3074</td>\n",
       "      <td>5</td>\n",
       "      <td>75</td>\n",
       "      <td>15</td>\n",
       "      <td>0</td>\n",
       "      <td>0</td>\n",
       "      <td>3433444310</td>\n",
       "      <td>0</td>\n",
       "      <td>True</td>\n",
       "      <td>1504953922</td>\n",
       "      <td>Silencer</td>\n",
       "      <td>2017-09-09 10:45:22</td>\n",
       "      <td>radiant</td>\n",
       "      <td>1</td>\n",
       "    </tr>\n",
       "    <tr>\n",
       "      <th>4</th>\n",
       "      <td>16</td>\n",
       "      <td>1</td>\n",
       "      <td>2816</td>\n",
       "      <td>22</td>\n",
       "      <td>29</td>\n",
       "      <td>3</td>\n",
       "      <td>0</td>\n",
       "      <td>0</td>\n",
       "      <td>3432206454</td>\n",
       "      <td>131</td>\n",
       "      <td>True</td>\n",
       "      <td>1504897425</td>\n",
       "      <td>Tidehunter</td>\n",
       "      <td>2017-09-08 19:03:45</td>\n",
       "      <td>dire</td>\n",
       "      <td>0</td>\n",
       "    </tr>\n",
       "  </tbody>\n",
       "</table>\n",
       "</div>"
      ],
      "text/plain": [
       "   assists  deaths  duration  game_mode  hero_id  kills  leaver_status  \\\n",
       "0       18       4      2533         22       27      7              0   \n",
       "1        5       6      2375         22       18      5              0   \n",
       "2        1       2      2112         22       31      1              1   \n",
       "3       19       5      3074          5       75     15              0   \n",
       "4       16       1      2816         22       29      3              0   \n",
       "\n",
       "   lobby_type    match_id  player_slot  radiant_win  start_time  \\\n",
       "0           0  3587558457            2         True  1511879974   \n",
       "1           0  3434506769          128         True  1504985730   \n",
       "2           0  3434469722          129         True  1504984250   \n",
       "3           0  3433444310            0         True  1504953922   \n",
       "4           0  3432206454          131         True  1504897425   \n",
       "\n",
       "       hero_name       start_datetime     team  win  \n",
       "0  Shadow Shaman  2017-11-28 14:39:34  radiant    1  \n",
       "1           Sven  2017-09-09 19:35:30     dire    0  \n",
       "2           Lich  2017-09-09 19:10:50     dire    0  \n",
       "3       Silencer  2017-09-09 10:45:22  radiant    1  \n",
       "4     Tidehunter  2017-09-08 19:03:45     dire    0  "
      ]
     },
     "execution_count": 8,
     "metadata": {},
     "output_type": "execute_result"
    }
   ],
   "source": [
    "import pandas as pd\n",
    "from pathlib import Path\n",
    "\n",
    "base_directory = Path('C:/Users/Ryan/dota2-classification')\n",
    "\n",
    "df = pd.read_csv(base_directory / 'dataset.csv')\n",
    "\n",
    "df.head()"
   ]
  },
  {
   "cell_type": "markdown",
   "metadata": {},
   "source": [
    "# Data Cleaning\n",
    "\n",
    "Before I start building the model, I'm going to remove a few columns that I believe won't be useful for predicting victory."
   ]
  },
  {
   "cell_type": "code",
   "execution_count": 9,
   "metadata": {},
   "outputs": [
    {
     "data": {
      "text/html": [
       "<div>\n",
       "<style scoped>\n",
       "    .dataframe tbody tr th:only-of-type {\n",
       "        vertical-align: middle;\n",
       "    }\n",
       "\n",
       "    .dataframe tbody tr th {\n",
       "        vertical-align: top;\n",
       "    }\n",
       "\n",
       "    .dataframe thead th {\n",
       "        text-align: right;\n",
       "    }\n",
       "</style>\n",
       "<table border=\"1\" class=\"dataframe\">\n",
       "  <thead>\n",
       "    <tr style=\"text-align: right;\">\n",
       "      <th></th>\n",
       "      <th>assists</th>\n",
       "      <th>deaths</th>\n",
       "      <th>duration</th>\n",
       "      <th>kills</th>\n",
       "      <th>leaver_status</th>\n",
       "      <th>hero_name</th>\n",
       "      <th>team</th>\n",
       "      <th>win</th>\n",
       "    </tr>\n",
       "  </thead>\n",
       "  <tbody>\n",
       "    <tr>\n",
       "      <th>0</th>\n",
       "      <td>18</td>\n",
       "      <td>4</td>\n",
       "      <td>2533</td>\n",
       "      <td>7</td>\n",
       "      <td>0</td>\n",
       "      <td>Shadow Shaman</td>\n",
       "      <td>radiant</td>\n",
       "      <td>1</td>\n",
       "    </tr>\n",
       "    <tr>\n",
       "      <th>1</th>\n",
       "      <td>5</td>\n",
       "      <td>6</td>\n",
       "      <td>2375</td>\n",
       "      <td>5</td>\n",
       "      <td>0</td>\n",
       "      <td>Sven</td>\n",
       "      <td>dire</td>\n",
       "      <td>0</td>\n",
       "    </tr>\n",
       "    <tr>\n",
       "      <th>2</th>\n",
       "      <td>1</td>\n",
       "      <td>2</td>\n",
       "      <td>2112</td>\n",
       "      <td>1</td>\n",
       "      <td>1</td>\n",
       "      <td>Lich</td>\n",
       "      <td>dire</td>\n",
       "      <td>0</td>\n",
       "    </tr>\n",
       "    <tr>\n",
       "      <th>3</th>\n",
       "      <td>19</td>\n",
       "      <td>5</td>\n",
       "      <td>3074</td>\n",
       "      <td>15</td>\n",
       "      <td>0</td>\n",
       "      <td>Silencer</td>\n",
       "      <td>radiant</td>\n",
       "      <td>1</td>\n",
       "    </tr>\n",
       "    <tr>\n",
       "      <th>4</th>\n",
       "      <td>16</td>\n",
       "      <td>1</td>\n",
       "      <td>2816</td>\n",
       "      <td>3</td>\n",
       "      <td>0</td>\n",
       "      <td>Tidehunter</td>\n",
       "      <td>dire</td>\n",
       "      <td>0</td>\n",
       "    </tr>\n",
       "  </tbody>\n",
       "</table>\n",
       "</div>"
      ],
      "text/plain": [
       "   assists  deaths  duration  kills  leaver_status      hero_name     team  \\\n",
       "0       18       4      2533      7              0  Shadow Shaman  radiant   \n",
       "1        5       6      2375      5              0           Sven     dire   \n",
       "2        1       2      2112      1              1           Lich     dire   \n",
       "3       19       5      3074     15              0       Silencer  radiant   \n",
       "4       16       1      2816      3              0     Tidehunter     dire   \n",
       "\n",
       "   win  \n",
       "0    1  \n",
       "1    0  \n",
       "2    0  \n",
       "3    1  \n",
       "4    0  "
      ]
     },
     "execution_count": 9,
     "metadata": {},
     "output_type": "execute_result"
    }
   ],
   "source": [
    "df = df.drop(columns = ['game_mode', 'hero_id', 'lobby_type', 'match_id', 'player_slot', 'radiant_win', 'start_time', 'start_datetime'], axis = 1)\n",
    "\n",
    "df.head()"
   ]
  },
  {
   "cell_type": "markdown",
   "metadata": {},
   "source": [
    "I'm also going to remove rows where *leaver_status* = 1. This represents a game where one player has left before the match ended, and the game is therefore 'abandoned'. I'll also remove the column after that since it is just a column of zeroes now"
   ]
  },
  {
   "cell_type": "code",
   "execution_count": 10,
   "metadata": {},
   "outputs": [
    {
     "data": {
      "text/html": [
       "<div>\n",
       "<style scoped>\n",
       "    .dataframe tbody tr th:only-of-type {\n",
       "        vertical-align: middle;\n",
       "    }\n",
       "\n",
       "    .dataframe tbody tr th {\n",
       "        vertical-align: top;\n",
       "    }\n",
       "\n",
       "    .dataframe thead th {\n",
       "        text-align: right;\n",
       "    }\n",
       "</style>\n",
       "<table border=\"1\" class=\"dataframe\">\n",
       "  <thead>\n",
       "    <tr style=\"text-align: right;\">\n",
       "      <th></th>\n",
       "      <th>assists</th>\n",
       "      <th>deaths</th>\n",
       "      <th>duration</th>\n",
       "      <th>kills</th>\n",
       "      <th>hero_name</th>\n",
       "      <th>team</th>\n",
       "      <th>win</th>\n",
       "    </tr>\n",
       "  </thead>\n",
       "  <tbody>\n",
       "    <tr>\n",
       "      <th>0</th>\n",
       "      <td>18</td>\n",
       "      <td>4</td>\n",
       "      <td>2533</td>\n",
       "      <td>7</td>\n",
       "      <td>Shadow Shaman</td>\n",
       "      <td>radiant</td>\n",
       "      <td>1</td>\n",
       "    </tr>\n",
       "    <tr>\n",
       "      <th>1</th>\n",
       "      <td>5</td>\n",
       "      <td>6</td>\n",
       "      <td>2375</td>\n",
       "      <td>5</td>\n",
       "      <td>Sven</td>\n",
       "      <td>dire</td>\n",
       "      <td>0</td>\n",
       "    </tr>\n",
       "    <tr>\n",
       "      <th>3</th>\n",
       "      <td>19</td>\n",
       "      <td>5</td>\n",
       "      <td>3074</td>\n",
       "      <td>15</td>\n",
       "      <td>Silencer</td>\n",
       "      <td>radiant</td>\n",
       "      <td>1</td>\n",
       "    </tr>\n",
       "    <tr>\n",
       "      <th>4</th>\n",
       "      <td>16</td>\n",
       "      <td>1</td>\n",
       "      <td>2816</td>\n",
       "      <td>3</td>\n",
       "      <td>Tidehunter</td>\n",
       "      <td>dire</td>\n",
       "      <td>0</td>\n",
       "    </tr>\n",
       "    <tr>\n",
       "      <th>5</th>\n",
       "      <td>19</td>\n",
       "      <td>2</td>\n",
       "      <td>2513</td>\n",
       "      <td>6</td>\n",
       "      <td>Gyrocopter</td>\n",
       "      <td>dire</td>\n",
       "      <td>1</td>\n",
       "    </tr>\n",
       "  </tbody>\n",
       "</table>\n",
       "</div>"
      ],
      "text/plain": [
       "   assists  deaths  duration  kills      hero_name     team  win\n",
       "0       18       4      2533      7  Shadow Shaman  radiant    1\n",
       "1        5       6      2375      5           Sven     dire    0\n",
       "3       19       5      3074     15       Silencer  radiant    1\n",
       "4       16       1      2816      3     Tidehunter     dire    0\n",
       "5       19       2      2513      6     Gyrocopter     dire    1"
      ]
     },
     "execution_count": 10,
     "metadata": {},
     "output_type": "execute_result"
    }
   ],
   "source": [
    "df = df[df['leaver_status'] == 0]\n",
    "\n",
    "df = df.drop(columns = 'leaver_status', axis = 1)\n",
    "\n",
    "df.head()"
   ]
  },
  {
   "cell_type": "markdown",
   "metadata": {},
   "source": [
    "We're now left with 6 useful columns to try and predict victory:\n",
    "1. *assists* - how many times you assisted in killing an enemy hero\n",
    "2. *deaths* - how many times you died\n",
    "3. *duration* - length of the match in seconds\n",
    "4. *kills* - how many times you killed an enemy hero\n",
    "5. *hero_name* - which hero you were playing\n",
    "6. *team* - which side (radiant or dire) you were playing on (radiant generally has a small win rate advantage to the tune of ~2%, as you can see below)\n",
    "\n",
    "Note: Look how close to 50% the win rate is - turns out DOTA matches are quite ideal for modelling due to very little imbalance!"
   ]
  },
  {
   "cell_type": "code",
   "execution_count": 11,
   "metadata": {},
   "outputs": [
    {
     "data": {
      "text/html": [
       "<div>\n",
       "<style scoped>\n",
       "    .dataframe tbody tr th:only-of-type {\n",
       "        vertical-align: middle;\n",
       "    }\n",
       "\n",
       "    .dataframe tbody tr th {\n",
       "        vertical-align: top;\n",
       "    }\n",
       "\n",
       "    .dataframe thead th {\n",
       "        text-align: right;\n",
       "    }\n",
       "</style>\n",
       "<table border=\"1\" class=\"dataframe\">\n",
       "  <thead>\n",
       "    <tr style=\"text-align: right;\">\n",
       "      <th></th>\n",
       "      <th>win</th>\n",
       "    </tr>\n",
       "    <tr>\n",
       "      <th>team</th>\n",
       "      <th></th>\n",
       "    </tr>\n",
       "  </thead>\n",
       "  <tbody>\n",
       "    <tr>\n",
       "      <th>dire</th>\n",
       "      <td>0.510768</td>\n",
       "    </tr>\n",
       "    <tr>\n",
       "      <th>radiant</th>\n",
       "      <td>0.536780</td>\n",
       "    </tr>\n",
       "  </tbody>\n",
       "</table>\n",
       "</div>"
      ],
      "text/plain": [
       "              win\n",
       "team             \n",
       "dire     0.510768\n",
       "radiant  0.536780"
      ]
     },
     "execution_count": 11,
     "metadata": {},
     "output_type": "execute_result"
    }
   ],
   "source": [
    "df.groupby('team').agg({'win':'mean'})"
   ]
  },
  {
   "cell_type": "markdown",
   "metadata": {},
   "source": [
    "In terms of model selection, I will start with a simple logistic regression to get a benchmark of what kind of performance we can expect from this data, before trying some more advanced models.\n",
    "\n",
    "# Logistic Regression"
   ]
  },
  {
   "cell_type": "code",
   "execution_count": 12,
   "metadata": {},
   "outputs": [],
   "source": [
    "#splitting into features (X) and labels (y)\n",
    "X = df[['hero_name', 'kills', 'deaths', 'assists', 'duration', 'team']]\n",
    "y = df['win']\n",
    "\n",
    "#splitting into train and test sets\n",
    "from sklearn.model_selection import train_test_split\n",
    "X_train, X_test, y_train, y_test = train_test_split(X, y, test_size=0.25, random_state=42)"
   ]
  },
  {
   "cell_type": "markdown",
   "metadata": {},
   "source": [
    "Due to the presence of categorical variables (features *hero_name* and *team*), we'll need to encode these features somehow.\n",
    "\n",
    "I generally stick to 3 types of encoding, and use the best for each model/dataset:\n",
    "1. One Hot Encoding - turns each level of a column into a dummy variable\n",
    "2. Label Encoding - turns each level of a column into a different number\n",
    "3. Target Encoding - turns each level of a column into the mean of the outcome for rows within that level\n",
    "\n",
    "I cannot use One Hot Encoding here due to the number of different heroes in DOTA 2 (115 currently! Which would result in 114 new columns being created!)\n",
    "\n",
    "Label Encoding I also generally dislike - models can assume ordinality from the numbers created, leading to bad performance on test sets\n",
    "\n",
    "Therefore we will encode the categorical variables using Target Encoding"
   ]
  },
  {
   "cell_type": "code",
   "execution_count": 14,
   "metadata": {},
   "outputs": [
    {
     "data": {
      "text/html": [
       "<div>\n",
       "<style scoped>\n",
       "    .dataframe tbody tr th:only-of-type {\n",
       "        vertical-align: middle;\n",
       "    }\n",
       "\n",
       "    .dataframe tbody tr th {\n",
       "        vertical-align: top;\n",
       "    }\n",
       "\n",
       "    .dataframe thead th {\n",
       "        text-align: right;\n",
       "    }\n",
       "</style>\n",
       "<table border=\"1\" class=\"dataframe\">\n",
       "  <thead>\n",
       "    <tr style=\"text-align: right;\">\n",
       "      <th></th>\n",
       "      <th>hero_name</th>\n",
       "      <th>kills</th>\n",
       "      <th>deaths</th>\n",
       "      <th>assists</th>\n",
       "      <th>duration</th>\n",
       "      <th>team</th>\n",
       "    </tr>\n",
       "  </thead>\n",
       "  <tbody>\n",
       "    <tr>\n",
       "      <th>3665</th>\n",
       "      <td>0.675676</td>\n",
       "      <td>1</td>\n",
       "      <td>5</td>\n",
       "      <td>4</td>\n",
       "      <td>1868</td>\n",
       "      <td>0.546030</td>\n",
       "    </tr>\n",
       "    <tr>\n",
       "      <th>3715</th>\n",
       "      <td>0.483871</td>\n",
       "      <td>8</td>\n",
       "      <td>1</td>\n",
       "      <td>4</td>\n",
       "      <td>1498</td>\n",
       "      <td>0.546030</td>\n",
       "    </tr>\n",
       "    <tr>\n",
       "      <th>492</th>\n",
       "      <td>0.480000</td>\n",
       "      <td>4</td>\n",
       "      <td>11</td>\n",
       "      <td>15</td>\n",
       "      <td>2487</td>\n",
       "      <td>0.529061</td>\n",
       "    </tr>\n",
       "    <tr>\n",
       "      <th>925</th>\n",
       "      <td>0.423077</td>\n",
       "      <td>2</td>\n",
       "      <td>4</td>\n",
       "      <td>14</td>\n",
       "      <td>2407</td>\n",
       "      <td>0.546030</td>\n",
       "    </tr>\n",
       "    <tr>\n",
       "      <th>3022</th>\n",
       "      <td>0.357143</td>\n",
       "      <td>10</td>\n",
       "      <td>2</td>\n",
       "      <td>21</td>\n",
       "      <td>2087</td>\n",
       "      <td>0.529061</td>\n",
       "    </tr>\n",
       "  </tbody>\n",
       "</table>\n",
       "</div>"
      ],
      "text/plain": [
       "      hero_name  kills  deaths  assists  duration      team\n",
       "3665   0.675676      1       5        4      1868  0.546030\n",
       "3715   0.483871      8       1        4      1498  0.546030\n",
       "492    0.480000      4      11       15      2487  0.529061\n",
       "925    0.423077      2       4       14      2407  0.546030\n",
       "3022   0.357143     10       2       21      2087  0.529061"
      ]
     },
     "execution_count": 14,
     "metadata": {},
     "output_type": "execute_result"
    }
   ],
   "source": [
    "import category_encoders as ce\n",
    "#create the encoder with the 2 categorical columns\n",
    "encoder = ce.TargetEncoder(cols = ['hero_name', 'team'])\n",
    "\n",
    "#fit the encoder on the train set\n",
    "encoder.fit(X_train, y_train)\n",
    "\n",
    "#transform both train and test sets\n",
    "#very important not to train the encoder on any test data - will result in leakage and misleading performance\n",
    "X_train = encoder.transform(X_train)\n",
    "X_test = encoder.transform(X_test)\n",
    "\n",
    "X_test.head()"
   ]
  },
  {
   "cell_type": "markdown",
   "metadata": {},
   "source": [
    "Our categorical features have now been encoded into floats, so we can start training a model!"
   ]
  },
  {
   "cell_type": "code",
   "execution_count": 19,
   "metadata": {},
   "outputs": [
    {
     "data": {
      "text/plain": [
       "LogisticRegression(C=1.0, class_weight=None, dual=False, fit_intercept=True,\n",
       "                   intercept_scaling=1, l1_ratio=None, max_iter=100,\n",
       "                   multi_class='warn', n_jobs=None, penalty='l2',\n",
       "                   random_state=42, solver='liblinear', tol=0.0001, verbose=0,\n",
       "                   warm_start=False)"
      ]
     },
     "execution_count": 19,
     "metadata": {},
     "output_type": "execute_result"
    }
   ],
   "source": [
    "from sklearn.linear_model import LogisticRegression\n",
    "reg = LogisticRegression(solver = 'liblinear', random_state = 42)\n",
    "reg.fit(X_train, y_train)"
   ]
  },
  {
   "cell_type": "markdown",
   "metadata": {},
   "source": [
    "Model trained, let's see how it performed"
   ]
  },
  {
   "cell_type": "code",
   "execution_count": 20,
   "metadata": {},
   "outputs": [
    {
     "name": "stdout",
     "output_type": "stream",
     "text": [
      "Mean accuracy of train set = 0.8155515370705244\n",
      "Mean accuracy of test set = 0.8091106290672451\n"
     ]
    }
   ],
   "source": [
    "print(f'Mean accuracy of train set = {reg.score(X_train, y_train)}')\n",
    "print(f'Mean accuracy of test set = {reg.score(X_test, y_test)}')"
   ]
  },
  {
   "cell_type": "markdown",
   "metadata": {},
   "source": [
    "Okay! Not a bad accuracy! The fact that the test set is performing similarly to the train set tells me that there isn't a great deal of overfitting going on. This is a fairly balanced dataset, so I don't think a ROC score will give us much more information, but it's worth a look."
   ]
  },
  {
   "cell_type": "code",
   "execution_count": 40,
   "metadata": {},
   "outputs": [
    {
     "name": "stdout",
     "output_type": "stream",
     "text": [
      "ROC score of train set = 0.8915720279985224\n",
      "ROC score of test set = 0.8846913056792217\n"
     ]
    },
    {
     "data": {
      "image/png": "[encoded data removed]",
      "text/plain": [
       "<Figure size 432x288 with 1 Axes>"
      ]
     },
     "metadata": {
      "needs_background": "light"
     },
     "output_type": "display_data"
    }
   ],
   "source": [
    "train_predictions = reg.predict_proba(X_train)[:,1]\n",
    "test_predictions = reg.predict_proba(X_test)[:,1]\n",
    "\n",
    "from sklearn.metrics import roc_auc_score\n",
    "print(f'ROC score of train set = {roc_auc_score(y_true = y_train, y_score = train_predictions)}')\n",
    "print(f'ROC score of test set = {roc_auc_score(y_true = y_test, y_score = test_predictions)}')\n",
    "\n",
    "from sklearn.metrics import roc_curve\n",
    "fpr, tpr, threshold = roc_curve(y_test, test_predictions)\n",
    "from sklearn.metrics import auc\n",
    "roc_auc = auc(fpr, tpr)\n",
    "\n",
    "import matplotlib.pyplot as plt\n",
    "%matplotlib inline\n",
    "plt.title('Receiver Operating Characteristic')\n",
    "plt.plot(fpr, tpr, 'b', label = 'AUC = %0.2f' % roc_auc)\n",
    "plt.legend(loc = 'lower right')\n",
    "plt.plot([0, 1], [0, 1],'r--')\n",
    "plt.xlim([0, 1])\n",
    "plt.ylim([0, 1])\n",
    "plt.ylabel('True Positive Rate')\n",
    "plt.xlabel('False Positive Rate')\n",
    "plt.show()"
   ]
  },
  {
   "cell_type": "markdown",
   "metadata": {},
   "source": [
    "As expected, ROC scores of train and test set are similar too!\n",
    "\n",
    "Let's see if we can improve that score a bit with a different model - a random forest is quick and fairly powerful!\n",
    "\n",
    "# Random Forest\n",
    "\n",
    "I'll give it a go with an out-of-the-box random forest, and then do some CV grid searching for hyperparameter tuning."
   ]
  },
  {
   "cell_type": "code",
   "execution_count": 36,
   "metadata": {},
   "outputs": [
    {
     "name": "stdout",
     "output_type": "stream",
     "text": [
      "RF ROC score of train set = 0.9990725568384529\n",
      "RF ROC score of test set = 0.860909711916708\n"
     ]
    }
   ],
   "source": [
    "from sklearn.ensemble import RandomForestClassifier\n",
    "rf = RandomForestClassifier(random_state = 42, n_estimators = 10)\n",
    "\n",
    "rf.fit(X_train, y_train)\n",
    "\n",
    "rf_predictions_train = rf.predict_proba(X_train)[:,1]\n",
    "rf_predictions_test = rf.predict_proba(X_test)[:,1]\n",
    "\n",
    "print(f'RF ROC score of train set = {roc_auc_score(y_true = y_train, y_score = rf_predictions_train)}')\n",
    "print(f'RF ROC score of test set = {roc_auc_score(y_true = y_test, y_score = rf_predictions_test)}')"
   ]
  },
  {
   "cell_type": "markdown",
   "metadata": {},
   "source": [
    "Interesting! With the random forest we have near-perfect performance on the train set, but worse performance on the test set. This indicates the existence of overfitting in our model - the model has learnt the train set *too* well, and as a result is not performing well on the test set.\n",
    "\n",
    "Let's try doing some CV randomised grid searches to reduce that overfitting, and increase our test performance.\n",
    "\n",
    "I'll first create a grid for the search (note I'm starting n_estimators fairly low due to our need to reduce overfitting - a lot of trees can be associated with overfitting)"
   ]
  },
  {
   "cell_type": "code",
   "execution_count": 38,
   "metadata": {},
   "outputs": [
    {
     "name": "stdout",
     "output_type": "stream",
     "text": [
      "Fitting 3 folds for each of 100 candidates, totalling 300 fits\n"
     ]
    },
    {
     "name": "stderr",
     "output_type": "stream",
     "text": [
      "[Parallel(n_jobs=-1)]: Using backend LokyBackend with 4 concurrent workers.\n",
      "[Parallel(n_jobs=-1)]: Done  28 tasks      | elapsed:    0.8s\n",
      "[Parallel(n_jobs=-1)]: Done 300 out of 300 | elapsed:    4.6s finished\n"
     ]
    },
    {
     "data": {
      "text/plain": [
       "RandomForestClassifier(bootstrap=True, class_weight=None, criterion='gini',\n",
       "                       max_depth=50, max_features='auto', max_leaf_nodes=None,\n",
       "                       min_impurity_decrease=0.0, min_impurity_split=None,\n",
       "                       min_samples_leaf=8, min_samples_split=10,\n",
       "                       min_weight_fraction_leaf=0.0, n_estimators=44,\n",
       "                       n_jobs=None, oob_score=False, random_state=42, verbose=0,\n",
       "                       warm_start=False)"
      ]
     },
     "execution_count": 38,
     "metadata": {},
     "output_type": "execute_result"
    }
   ],
   "source": [
    "#CV and hyperparameter tuning\n",
    "from sklearn.model_selection import RandomizedSearchCV\n",
    "import numpy as np\n",
    "\n",
    "# Number of trees in random forest\n",
    "n_estimators = [int(x) for x in np.linspace(start = 2, stop = 50, num = 10)]\n",
    "# Maximum number of levels in tree\n",
    "max_depth = [int(x) for x in np.linspace(5, 50, num = 10)]\n",
    "max_depth.append(None)\n",
    "# Minimum number of samples required to split a node\n",
    "min_samples_split = [2, 3, 5, 7, 10]\n",
    "# Minimum number of samples required at each leaf node\n",
    "min_samples_leaf = [2, 4, 6, 8]\n",
    "# Method of selecting samples for training each tree\n",
    "bootstrap = [True, False]\n",
    "\n",
    "# Create the random grid\n",
    "random_grid = {'n_estimators': n_estimators,\n",
    "               'max_depth': max_depth,\n",
    "               'min_samples_split': min_samples_split,\n",
    "               'min_samples_leaf': min_samples_leaf,\n",
    "               'bootstrap': bootstrap}\n",
    "\n",
    "# Use the random grid to search for best hyperparameters\n",
    "# Random search of parameters, using 3 fold cross validation,\n",
    "# search across 100 different combinations, and use all available cores\n",
    "rf_random = RandomizedSearchCV(estimator=rf, param_distributions=random_grid,\n",
    "                              n_iter = 100, scoring='roc_auc',\n",
    "                              cv = 3, verbose=5, random_state=142, n_jobs=-1,\n",
    "                              iid=True)\n",
    "\n",
    "# Fit the random search model\n",
    "rf_random.fit(X_train, y_train)\n",
    "\n",
    "#check best parameters\n",
    "rf_random.best_estimator_"
   ]
  },
  {
   "cell_type": "markdown",
   "metadata": {},
   "source": [
    "Okay, our grid search has produced a set of best parameters for our dataset. I'm surprised that it has chosen such a high number of trees (44) due to us seeing overfitting with only 10 trees.\n",
    "\n",
    "Let's retrain our model with these parameters and see if our performance has improved."
   ]
  },
  {
   "cell_type": "code",
   "execution_count": 39,
   "metadata": {},
   "outputs": [
    {
     "name": "stdout",
     "output_type": "stream",
     "text": [
      "RF ROC score of train set = 0.9516335102447607\n",
      "RF ROC score of test set = 0.8922290533060091\n"
     ]
    }
   ],
   "source": [
    "rf = rf_random.best_estimator_\n",
    "\n",
    "rf.fit(X_train, y_train)\n",
    "\n",
    "CVrf_predictions_train = rf.predict_proba(X_train)[:,1]\n",
    "CVrf_predictions_test = rf.predict_proba(X_test)[:,1]\n",
    "\n",
    "print(f'RF ROC score of train set = {roc_auc_score(y_true = y_train, y_score = CVrf_predictions_train)}')\n",
    "print(f'RF ROC score of test set = {roc_auc_score(y_true = y_test, y_score = CVrf_predictions_test)}')"
   ]
  },
  {
   "cell_type": "markdown",
   "metadata": {},
   "source": [
    "Woop! The grid search has reduced our overfitting, and increased our test performance at the same time (only by 1% over the logistic regression though!).\n",
    "\n",
    "Let's have a look at the ROC curve"
   ]
  },
  {
   "cell_type": "code",
   "execution_count": 45,
   "metadata": {},
   "outputs": [
    {
     "data": {
      "image/png": "[encoded data removed]",
      "text/plain": [
       "<Figure size 432x288 with 1 Axes>"
      ]
     },
     "metadata": {
      "needs_background": "light"
     },
     "output_type": "display_data"
    }
   ],
   "source": [
    "fpr, tpr, threshold = roc_curve(y_test, CVrf_predictions_test)\n",
    "roc_auc = auc(fpr, tpr)\n",
    "\n",
    "plt.title('Receiver Operating Characteristic')\n",
    "plt.plot(fpr, tpr, 'b', label = 'AUC = %0.2f' % roc_auc)\n",
    "plt.legend(loc = 'lower right')\n",
    "plt.plot([0, 1], [0, 1],'r--')\n",
    "plt.xlim([0, 1])\n",
    "plt.ylim([0, 1])\n",
    "plt.ylabel('True Positive Rate')\n",
    "plt.xlabel('False Positive Rate')\n",
    "plt.show()"
   ]
  },
  {
   "cell_type": "markdown",
   "metadata": {},
   "source": [
    "Even though there is a performance increase, if I were to deploy this for use I would still strongly consider using the logistic regression over the random forest. Explainability and relative simplicity can be incredibly valuable when things go wrong."
   ]
  }
 ],
 "metadata": {
  "kernelspec": {
   "display_name": "Python 3",
   "language": "python",
   "name": "python3"
  },
  "language_info": {
   "codemirror_mode": {
    "name": "ipython",
    "version": 3
   },
   "file_extension": ".py",
   "mimetype": "text/x-python",
   "name": "python",
   "nbconvert_exporter": "python",
   "pygments_lexer": "ipython3",
   "version": "3.6.9"
  }
 },
 "nbformat": 4,
 "nbformat_minor": 2
}
